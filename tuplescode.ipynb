{
 "cells": [
  {
   "cell_type": "code",
   "execution_count": 4,
   "id": "cfe19efe-8a37-43e7-95cd-547d80dc9b9a",
   "metadata": {},
   "outputs": [],
   "source": [
    "t={}"
   ]
  },
  {
   "cell_type": "code",
   "execution_count": 5,
   "id": "60f32038-6326-4dc4-b656-36c1ed719871",
   "metadata": {},
   "outputs": [
    {
     "data": {
      "text/plain": [
       "dict"
      ]
     },
     "execution_count": 5,
     "metadata": {},
     "output_type": "execute_result"
    }
   ],
   "source": [
    "type(t)"
   ]
  },
  {
   "cell_type": "code",
   "execution_count": 6,
   "id": "c5a2311e-3cc0-41df-b425-cb878db287e9",
   "metadata": {},
   "outputs": [],
   "source": [
    "t=()"
   ]
  },
  {
   "cell_type": "code",
   "execution_count": 7,
   "id": "28b4c525-4452-4e25-bc6f-61f814f867db",
   "metadata": {},
   "outputs": [
    {
     "data": {
      "text/plain": [
       "tuple"
      ]
     },
     "execution_count": 7,
     "metadata": {},
     "output_type": "execute_result"
    }
   ],
   "source": [
    "type(t)"
   ]
  },
  {
   "cell_type": "code",
   "execution_count": 8,
   "id": "d9cbe273-c128-49d5-8860-0a97f8c601aa",
   "metadata": {},
   "outputs": [],
   "source": [
    "t=[]"
   ]
  },
  {
   "cell_type": "code",
   "execution_count": 9,
   "id": "e3979d3a-15d9-4c31-944a-7e6e802788c2",
   "metadata": {},
   "outputs": [
    {
     "data": {
      "text/plain": [
       "list"
      ]
     },
     "execution_count": 9,
     "metadata": {},
     "output_type": "execute_result"
    }
   ],
   "source": [
    "type(t)"
   ]
  },
  {
   "cell_type": "code",
   "execution_count": 10,
   "id": "a5b82a59-0219-4cb1-be94-569a6ffaf041",
   "metadata": {},
   "outputs": [],
   "source": [
    "t=(1,2,3,45.5,'rfty' ,True,(5+3j))"
   ]
  },
  {
   "cell_type": "code",
   "execution_count": 11,
   "id": "fda7ce11-887a-408a-983d-a68fdf292f0b",
   "metadata": {},
   "outputs": [
    {
     "data": {
      "text/plain": [
       "(1, 2, 3, 45.5, 'rfty', True, (5+3j))"
      ]
     },
     "execution_count": 11,
     "metadata": {},
     "output_type": "execute_result"
    }
   ],
   "source": [
    "t"
   ]
  },
  {
   "cell_type": "code",
   "execution_count": 13,
   "id": "626aff93-c597-4e53-99e7-a6958cba29b6",
   "metadata": {},
   "outputs": [
    {
     "data": {
      "text/plain": [
       "1"
      ]
     },
     "execution_count": 13,
     "metadata": {},
     "output_type": "execute_result"
    }
   ],
   "source": [
    "t[0]"
   ]
  },
  {
   "cell_type": "code",
   "execution_count": 15,
   "id": "ed2b498e-ce6f-42a4-af47-0ce5bdb2d4b8",
   "metadata": {},
   "outputs": [
    {
     "data": {
      "text/plain": [
       "7"
      ]
     },
     "execution_count": 15,
     "metadata": {},
     "output_type": "execute_result"
    }
   ],
   "source": [
    "len(t)"
   ]
  },
  {
   "cell_type": "code",
   "execution_count": 20,
   "id": "386d5c07-6fb7-47f4-bce6-83ce90a157f2",
   "metadata": {},
   "outputs": [
    {
     "data": {
      "text/plain": [
       "((5+3j), True, 'rfty', 45.5, 3, 2, 1)"
      ]
     },
     "execution_count": 20,
     "metadata": {},
     "output_type": "execute_result"
    }
   ],
   "source": [
    "t[::-1]"
   ]
  },
  {
   "cell_type": "code",
   "execution_count": 22,
   "id": "330dbdfb-c533-4e1f-81c1-e7b4fb27949d",
   "metadata": {},
   "outputs": [],
   "source": [
    "t1=t[::-1]"
   ]
  },
  {
   "cell_type": "code",
   "execution_count": 23,
   "id": "80aa1e7a-4f09-4438-9fe0-50061f93f776",
   "metadata": {},
   "outputs": [
    {
     "data": {
      "text/plain": [
       "((5+3j), True, 'rfty', 45.5, 3, 2, 1)"
      ]
     },
     "execution_count": 23,
     "metadata": {},
     "output_type": "execute_result"
    }
   ],
   "source": [
    "t1"
   ]
  },
  {
   "cell_type": "markdown",
   "id": "a7616f38-4e71-4b20-8f67-273738cb64bc",
   "metadata": {},
   "source": [
    "Sliceing operation"
   ]
  },
  {
   "cell_type": "code",
   "execution_count": 24,
   "id": "26b36245-59b1-4813-a839-b420c38b6535",
   "metadata": {},
   "outputs": [
    {
     "data": {
      "text/plain": [
       "((5+3j), 45.5, 1)"
      ]
     },
     "execution_count": 24,
     "metadata": {},
     "output_type": "execute_result"
    }
   ],
   "source": [
    "t1[0::3]"
   ]
  },
  {
   "cell_type": "code",
   "execution_count": 26,
   "id": "c9ada3ee-9f47-41e8-a79c-d73383536e21",
   "metadata": {},
   "outputs": [
    {
     "data": {
      "text/plain": [
       "((5+3j), True, 'rfty', 45.5)"
      ]
     },
     "execution_count": 26,
     "metadata": {},
     "output_type": "execute_result"
    }
   ],
   "source": [
    "t1[0:4]"
   ]
  },
  {
   "cell_type": "code",
   "execution_count": 27,
   "id": "048879af-a42d-4d9e-8de4-91427773b30b",
   "metadata": {},
   "outputs": [
    {
     "data": {
      "text/plain": [
       "((5+3j), True, 'rfty', 45.5, 3, 2, 1)"
      ]
     },
     "execution_count": 27,
     "metadata": {},
     "output_type": "execute_result"
    }
   ],
   "source": [
    "t1"
   ]
  },
  {
   "cell_type": "code",
   "execution_count": 28,
   "id": "78103894-ad7d-4d6f-9c79-059cc38368c3",
   "metadata": {},
   "outputs": [
    {
     "data": {
      "text/plain": [
       "0"
      ]
     },
     "execution_count": 28,
     "metadata": {},
     "output_type": "execute_result"
    }
   ],
   "source": [
    "t1.count(0)"
   ]
  },
  {
   "cell_type": "code",
   "execution_count": 29,
   "id": "a09b7e64-d87e-4c4b-92e0-a0af46595041",
   "metadata": {},
   "outputs": [
    {
     "data": {
      "text/plain": [
       "2"
      ]
     },
     "execution_count": 29,
     "metadata": {},
     "output_type": "execute_result"
    }
   ],
   "source": [
    "t1.count(1)"
   ]
  },
  {
   "cell_type": "code",
   "execution_count": 30,
   "id": "923e81d8-b4fe-48e2-a525-582c7e2421b2",
   "metadata": {},
   "outputs": [
    {
     "data": {
      "text/plain": [
       "0"
      ]
     },
     "execution_count": 30,
     "metadata": {},
     "output_type": "execute_result"
    }
   ],
   "source": [
    "t1.count(\"rfdd\")"
   ]
  },
  {
   "cell_type": "code",
   "execution_count": 31,
   "id": "f8069eb9-7b20-4b87-94a7-0c2618ad44d9",
   "metadata": {},
   "outputs": [
    {
     "data": {
      "text/plain": [
       "1"
      ]
     },
     "execution_count": 31,
     "metadata": {},
     "output_type": "execute_result"
    }
   ],
   "source": [
    "t1.count(5+3j)"
   ]
  },
  {
   "cell_type": "code",
   "execution_count": 33,
   "id": "c10999fd-794b-4c62-b44f-a2d7e1ca5516",
   "metadata": {},
   "outputs": [
    {
     "data": {
      "text/plain": [
       "2"
      ]
     },
     "execution_count": 33,
     "metadata": {},
     "output_type": "execute_result"
    }
   ],
   "source": [
    "t1.count(True)"
   ]
  },
  {
   "cell_type": "code",
   "execution_count": 36,
   "id": "bde758c3-a42b-47c4-91cd-3de3f9b19a93",
   "metadata": {},
   "outputs": [
    {
     "data": {
      "text/plain": [
       "((5+3j), True, 'rfty', 45.5, 3, 2, 1)"
      ]
     },
     "execution_count": 36,
     "metadata": {},
     "output_type": "execute_result"
    }
   ],
   "source": [
    "t1"
   ]
  },
  {
   "cell_type": "code",
   "execution_count": 38,
   "id": "3bb117e4-ef54-472e-9203-56f3dcb6a769",
   "metadata": {},
   "outputs": [
    {
     "data": {
      "text/plain": [
       "5"
      ]
     },
     "execution_count": 38,
     "metadata": {},
     "output_type": "execute_result"
    }
   ],
   "source": [
    "t1.index(2)"
   ]
  },
  {
   "cell_type": "code",
   "execution_count": 39,
   "id": "17b10878-bb45-4c75-a459-2c5151631df4",
   "metadata": {},
   "outputs": [
    {
     "data": {
      "text/plain": [
       "2"
      ]
     },
     "execution_count": 39,
     "metadata": {},
     "output_type": "execute_result"
    }
   ],
   "source": [
    "t1.index('rfty')"
   ]
  },
  {
   "cell_type": "code",
   "execution_count": 40,
   "id": "0419f975-3284-4052-beeb-5e5f35fd5de3",
   "metadata": {},
   "outputs": [
    {
     "data": {
      "text/plain": [
       "1"
      ]
     },
     "execution_count": 40,
     "metadata": {},
     "output_type": "execute_result"
    }
   ],
   "source": [
    "t1.index(True)"
   ]
  },
  {
   "cell_type": "code",
   "execution_count": 41,
   "id": "8c3dab2f-a7fc-456c-b248-7842dde25ba8",
   "metadata": {},
   "outputs": [
    {
     "data": {
      "text/plain": [
       "1"
      ]
     },
     "execution_count": 41,
     "metadata": {},
     "output_type": "execute_result"
    }
   ],
   "source": [
    "t1.index(1)"
   ]
  },
  {
   "cell_type": "code",
   "execution_count": 42,
   "id": "e7c6ad6c-036a-4e1c-911d-38068704d65b",
   "metadata": {},
   "outputs": [
    {
     "ename": "SyntaxError",
     "evalue": "cannot assign to function call here. Maybe you meant '==' instead of '='? (1265173549.py, line 1)",
     "output_type": "error",
     "traceback": [
      "\u001b[0;36m  Cell \u001b[0;32mIn[42], line 1\u001b[0;36m\u001b[0m\n\u001b[0;31m    t1(0)=123\u001b[0m\n\u001b[0m    ^\u001b[0m\n\u001b[0;31mSyntaxError\u001b[0m\u001b[0;31m:\u001b[0m cannot assign to function call here. Maybe you meant '==' instead of '='?\n"
     ]
    }
   ],
   "source": [
    "t1(0)=123"
   ]
  },
  {
   "cell_type": "code",
   "execution_count": 47,
   "id": "4f8151c4-65b5-4729-8ab7-b7d4023aaad7",
   "metadata": {},
   "outputs": [],
   "source": [
    "t2=(1,2,3,4)"
   ]
  },
  {
   "cell_type": "code",
   "execution_count": 48,
   "id": "d6e3af2a-1fab-40e6-a029-589f575cbf64",
   "metadata": {},
   "outputs": [
    {
     "data": {
      "text/plain": [
       "(1, 2, 3, 4)"
      ]
     },
     "execution_count": 48,
     "metadata": {},
     "output_type": "execute_result"
    }
   ],
   "source": [
    "t2"
   ]
  },
  {
   "cell_type": "code",
   "execution_count": 50,
   "id": "4401a89a-869f-4efc-99c4-8a3539d36164",
   "metadata": {},
   "outputs": [],
   "source": [
    "t3=[1,2,3,4]"
   ]
  },
  {
   "cell_type": "code",
   "execution_count": 51,
   "id": "8082d59b-187b-4662-8272-dd0ccbbe2c6f",
   "metadata": {},
   "outputs": [
    {
     "data": {
      "text/plain": [
       "list"
      ]
     },
     "execution_count": 51,
     "metadata": {},
     "output_type": "execute_result"
    }
   ],
   "source": [
    "type(t3)"
   ]
  },
  {
   "cell_type": "code",
   "execution_count": 52,
   "id": "871a17d4-0546-4f10-b00d-c6bc07d95778",
   "metadata": {},
   "outputs": [
    {
     "data": {
      "text/plain": [
       "[1, 2, 3, 4]"
      ]
     },
     "execution_count": 52,
     "metadata": {},
     "output_type": "execute_result"
    }
   ],
   "source": [
    "t3"
   ]
  },
  {
   "cell_type": "code",
   "execution_count": 55,
   "id": "88cee081-84ee-4243-a8e2-25ecfa55e3f7",
   "metadata": {},
   "outputs": [],
   "source": [
    "t3[2]=212"
   ]
  },
  {
   "cell_type": "code",
   "execution_count": 56,
   "id": "3ab7f7fa-73ec-4e38-9dba-775be71c06f8",
   "metadata": {},
   "outputs": [
    {
     "data": {
      "text/plain": [
       "[1, 2, 212, 4]"
      ]
     },
     "execution_count": 56,
     "metadata": {},
     "output_type": "execute_result"
    }
   ],
   "source": [
    " t3"
   ]
  },
  {
   "cell_type": "code",
   "execution_count": 57,
   "id": "878cf29a-ba23-49dc-be0f-dc55837cd299",
   "metadata": {},
   "outputs": [
    {
     "data": {
      "text/plain": [
       "((5+3j), True, 'rfty', 45.5, 3, 2, 1)"
      ]
     },
     "execution_count": 57,
     "metadata": {},
     "output_type": "execute_result"
    }
   ],
   "source": [
    "t1"
   ]
  },
  {
   "cell_type": "code",
   "execution_count": 60,
   "id": "b5372a41-745e-4ad1-956e-da323a20bdba",
   "metadata": {},
   "outputs": [
    {
     "name": "stdout",
     "output_type": "stream",
     "text": [
      "((5+3j), True, 'rfty', 45.5, 3, 2, 1)\n",
      "((5+3j), True, 'rfty', 45.5, 3, 2, 1)\n",
      "((5+3j), True, 'rfty', 45.5, 3, 2, 1)\n",
      "((5+3j), True, 'rfty', 45.5, 3, 2, 1)\n",
      "((5+3j), True, 'rfty', 45.5, 3, 2, 1)\n",
      "((5+3j), True, 'rfty', 45.5, 3, 2, 1)\n",
      "((5+3j), True, 'rfty', 45.5, 3, 2, 1)\n"
     ]
    }
   ],
   "source": [
    "for i in t1:\n",
    "    print(t1)"
   ]
  },
  {
   "cell_type": "code",
   "execution_count": 61,
   "id": "b8547d13-746f-4368-b9ed-98b15da6413a",
   "metadata": {},
   "outputs": [
    {
     "name": "stdout",
     "output_type": "stream",
     "text": [
      "((5+3j), True, 'rfty', 45.5, 3, 2, 1) <class 'complex'>\n",
      "((5+3j), True, 'rfty', 45.5, 3, 2, 1) <class 'bool'>\n",
      "((5+3j), True, 'rfty', 45.5, 3, 2, 1) <class 'str'>\n",
      "((5+3j), True, 'rfty', 45.5, 3, 2, 1) <class 'float'>\n",
      "((5+3j), True, 'rfty', 45.5, 3, 2, 1) <class 'int'>\n",
      "((5+3j), True, 'rfty', 45.5, 3, 2, 1) <class 'int'>\n",
      "((5+3j), True, 'rfty', 45.5, 3, 2, 1) <class 'int'>\n"
     ]
    }
   ],
   "source": [
    "for i in t1:\n",
    "    print(t1,type(i))"
   ]
  },
  {
   "cell_type": "code",
   "execution_count": 63,
   "id": "be5b38ec-d1ba-4bab-8e9a-ccb968fc9fe8",
   "metadata": {},
   "outputs": [],
   "source": [
    "t5=(1,2,3,4,5,6)"
   ]
  },
  {
   "cell_type": "code",
   "execution_count": 65,
   "id": "fcd83d93-9d07-43cf-a5d8-3017444a46a3",
   "metadata": {},
   "outputs": [
    {
     "data": {
      "text/plain": [
       "(1, 2, 3, 4, 5, 6)"
      ]
     },
     "execution_count": 65,
     "metadata": {},
     "output_type": "execute_result"
    }
   ],
   "source": [
    "t5"
   ]
  },
  {
   "cell_type": "code",
   "execution_count": 66,
   "id": "423e31c6-ec31-4407-b9db-1dc872591201",
   "metadata": {},
   "outputs": [
    {
     "data": {
      "text/plain": [
       "(1, 2, 3, 4, 5, 6, 1, 2, 3, 4, 5, 6, 1, 2, 3, 4, 5, 6)"
      ]
     },
     "execution_count": 66,
     "metadata": {},
     "output_type": "execute_result"
    }
   ],
   "source": [
    "t5*3"
   ]
  },
  {
   "cell_type": "code",
   "execution_count": 69,
   "id": "ddce3dfa-3409-4332-8366-acf9b14d899c",
   "metadata": {},
   "outputs": [
    {
     "data": {
      "text/plain": [
       "6"
      ]
     },
     "execution_count": 69,
     "metadata": {},
     "output_type": "execute_result"
    }
   ],
   "source": [
    "max(t5)"
   ]
  },
  {
   "cell_type": "code",
   "execution_count": 70,
   "id": "3afd9bf0-f467-40e6-aa7c-93db14f66af8",
   "metadata": {},
   "outputs": [
    {
     "data": {
      "text/plain": [
       "1"
      ]
     },
     "execution_count": 70,
     "metadata": {},
     "output_type": "execute_result"
    }
   ],
   "source": [
    "min(t5)"
   ]
  },
  {
   "cell_type": "code",
   "execution_count": 78,
   "id": "1c58624d-e6ca-40eb-8bd2-9a773cb6ba5a",
   "metadata": {},
   "outputs": [],
   "source": [
    "t6=(1,2,3,4)\n",
    "t7=(5,6,7,8)"
   ]
  },
  {
   "cell_type": "code",
   "execution_count": 79,
   "id": "9405de12-e602-4715-88c0-782ab8dab476",
   "metadata": {},
   "outputs": [],
   "source": [
    "t8=(t6,t7)"
   ]
  },
  {
   "cell_type": "code",
   "execution_count": 80,
   "id": "14034101-be73-45dd-9103-2288fb0e2f26",
   "metadata": {},
   "outputs": [
    {
     "data": {
      "text/plain": [
       "((1, 2, 3, 4), (5, 6, 7, 8))"
      ]
     },
     "execution_count": 80,
     "metadata": {},
     "output_type": "execute_result"
    }
   ],
   "source": [
    "t8"
   ]
  },
  {
   "cell_type": "code",
   "execution_count": 1,
   "id": "27a5e9ca-eff5-4864-813a-8473e28f69a5",
   "metadata": {},
   "outputs": [],
   "source": [
    "t9=((1,2,3,4),[5,6,7,8])"
   ]
  },
  {
   "cell_type": "code",
   "execution_count": 2,
   "id": "d3877a1a-c77f-4ef2-9e83-9f966f75013a",
   "metadata": {},
   "outputs": [
    {
     "data": {
      "text/plain": [
       "((1, 2, 3, 4), [5, 6, 7, 8])"
      ]
     },
     "execution_count": 2,
     "metadata": {},
     "output_type": "execute_result"
    }
   ],
   "source": [
    "t9"
   ]
  },
  {
   "cell_type": "code",
   "execution_count": 3,
   "id": "6cc0a596-a0e1-4eee-b8f0-1dd1bd00dbce",
   "metadata": {},
   "outputs": [
    {
     "data": {
      "text/plain": [
       "2"
      ]
     },
     "execution_count": 3,
     "metadata": {},
     "output_type": "execute_result"
    }
   ],
   "source": [
    "len(t9)"
   ]
  },
  {
   "cell_type": "code",
   "execution_count": 4,
   "id": "b4d59e20-a36e-4a34-9904-88f8d9b6839b",
   "metadata": {},
   "outputs": [],
   "source": [
    "del t9"
   ]
  },
  {
   "cell_type": "code",
   "execution_count": 5,
   "id": "a1494214-aa41-4e04-8935-acff3f93d867",
   "metadata": {},
   "outputs": [
    {
     "ename": "NameError",
     "evalue": "name 't0' is not defined",
     "output_type": "error",
     "traceback": [
      "\u001b[0;31m---------------------------------------------------------------------------\u001b[0m",
      "\u001b[0;31mNameError\u001b[0m                                 Traceback (most recent call last)",
      "Cell \u001b[0;32mIn[5], line 1\u001b[0m\n\u001b[0;32m----> 1\u001b[0m \u001b[43mt0\u001b[49m\n",
      "\u001b[0;31mNameError\u001b[0m: name 't0' is not defined"
     ]
    }
   ],
   "source": [
    "t0"
   ]
  },
  {
   "cell_type": "code",
   "execution_count": null,
   "id": "db17afc6-0ca1-4603-8a84-68a1afeadb83",
   "metadata": {},
   "outputs": [],
   "source": []
  },
  {
   "cell_type": "code",
   "execution_count": null,
   "id": "23de61f6-8042-4398-be8e-65541bab6136",
   "metadata": {},
   "outputs": [],
   "source": []
  },
  {
   "cell_type": "code",
   "execution_count": null,
   "id": "d13e1fc0-91a5-45b7-82d4-ba2b1f88e18d",
   "metadata": {},
   "outputs": [],
   "source": []
  },
  {
   "cell_type": "code",
   "execution_count": null,
   "id": "8b0383ee-023a-452b-af88-c9364eebdfa3",
   "metadata": {},
   "outputs": [],
   "source": []
  },
  {
   "cell_type": "code",
   "execution_count": null,
   "id": "5bea08c9-7750-4af2-a985-9ba568f5d2f1",
   "metadata": {},
   "outputs": [],
   "source": []
  }
 ],
 "metadata": {
  "kernelspec": {
   "display_name": "Python 3 (ipykernel)",
   "language": "python",
   "name": "python3"
  },
  "language_info": {
   "codemirror_mode": {
    "name": "ipython",
    "version": 3
   },
   "file_extension": ".py",
   "mimetype": "text/x-python",
   "name": "python",
   "nbconvert_exporter": "python",
   "pygments_lexer": "ipython3",
   "version": "3.10.8"
  }
 },
 "nbformat": 4,
 "nbformat_minor": 5
}
